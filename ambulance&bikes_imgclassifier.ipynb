{
 "cells": [
  {
   "cell_type": "code",
   "execution_count": 2,
   "metadata": {},
   "outputs": [],
   "source": [
    "import tensorflow as tf\n",
    "import os\n",
    "import numpy as np\n",
    "import matplotlib.pyplot as plt\n",
    "import cv2"
   ]
  },
  {
   "cell_type": "code",
   "execution_count": 3,
   "metadata": {},
   "outputs": [],
   "source": [
    "data=\"C:/Users/Srivatsan/Desktop/facematch/ambulance&bikes\"\n",
    "cat=[\"ambulance\",\"bikes\"]"
   ]
  },
  {
   "cell_type": "code",
   "execution_count": 4,
   "metadata": {},
   "outputs": [],
   "source": [
    "train_ambulance_dir=os.path.join('C:\\\\Users\\\\Srivatsan\\\\Desktop\\\\facematch/ambulance&bikes/ambulance')\n",
    "train_bikes_dir=os.path.join('C:\\\\Users\\\\Srivatsan\\\\Desktop\\\\facematch/ambulance&bikes/bikes')"
   ]
  },
  {
   "cell_type": "code",
   "execution_count": 5,
   "metadata": {},
   "outputs": [
    {
     "name": "stdout",
     "output_type": "stream",
     "text": [
      "['amb1.jpg', 'amb10.jpg', 'amb2.jpg', 'amb3.jpg', 'amb4.jpg', 'amb5.jpg', 'amb6.jpg', 'amb7.jpg', 'amb8.jpg', 'amb9.jpg']\n",
      "['bikes10.jpg', 'bikes3.jpg', 'bikes4.jpg', 'bikes5.jpg', 'bikes6.jpg', 'bikes7.jpg', 'bikes8.jpg', 'bikes9.jpg', 'bmw-1313343_640.jpg', 'dirt-bike-330815_640.jpg']\n"
     ]
    }
   ],
   "source": [
    "train_ambulance_names=os.listdir(train_ambulance_dir)\n",
    "print(train_ambulance_names[:10])\n",
    "train_bikes_names=os.listdir(train_bikes_dir)\n",
    "print(train_bikes_names[:10])"
   ]
  },
  {
   "cell_type": "code",
   "execution_count": 6,
   "metadata": {},
   "outputs": [],
   "source": [
    "import matplotlib.image as mpimg"
   ]
  },
  {
   "cell_type": "code",
   "execution_count": 21,
   "metadata": {},
   "outputs": [],
   "source": [
    "model=tf.keras.models.Sequential([\n",
    "    tf.keras.layers.Conv2D(16,(3,3),activation='relu',input_shape=(300,300,3)),\n",
    "    tf.keras.layers.MaxPooling2D(2,2),\n",
    "    tf.keras.layers.Conv2D(32,(3,3),activation='relu'),\n",
    "    tf.keras.layers.MaxPooling2D(2,2),\n",
    "    tf.keras.layers.Conv2D(64,(3,3),activation='relu'),\n",
    "    tf.keras.layers.MaxPooling2D(2,2),\n",
    "    tf.keras.layers.Conv2D(64,(3,3),activation='relu'),\n",
    "    tf.keras.layers.MaxPooling2D(2,2),\n",
    "    tf.keras.layers.Conv2D(64,(3,3),activation='relu'),\n",
    "    tf.keras.layers.MaxPooling2D(2,2),\n",
    "    tf.keras.layers.Flatten(),\n",
    "    tf.keras.layers.Dense(512,activation='relu'),\n",
    "    tf.keras.layers.Dense(1,activation='sigmoid')     \n",
    "])"
   ]
  },
  {
   "cell_type": "code",
   "execution_count": 22,
   "metadata": {},
   "outputs": [
    {
     "name": "stdout",
     "output_type": "stream",
     "text": [
      "_________________________________________________________________\n",
      "Layer (type)                 Output Shape              Param #   \n",
      "=================================================================\n",
      "conv2d_15 (Conv2D)           (None, 298, 298, 16)      448       \n",
      "_________________________________________________________________\n",
      "max_pooling2d_15 (MaxPooling (None, 149, 149, 16)      0         \n",
      "_________________________________________________________________\n",
      "conv2d_16 (Conv2D)           (None, 147, 147, 32)      4640      \n",
      "_________________________________________________________________\n",
      "max_pooling2d_16 (MaxPooling (None, 73, 73, 32)        0         \n",
      "_________________________________________________________________\n",
      "conv2d_17 (Conv2D)           (None, 71, 71, 64)        18496     \n",
      "_________________________________________________________________\n",
      "max_pooling2d_17 (MaxPooling (None, 35, 35, 64)        0         \n",
      "_________________________________________________________________\n",
      "conv2d_18 (Conv2D)           (None, 33, 33, 64)        36928     \n",
      "_________________________________________________________________\n",
      "max_pooling2d_18 (MaxPooling (None, 16, 16, 64)        0         \n",
      "_________________________________________________________________\n",
      "conv2d_19 (Conv2D)           (None, 14, 14, 64)        36928     \n",
      "_________________________________________________________________\n",
      "max_pooling2d_19 (MaxPooling (None, 7, 7, 64)          0         \n",
      "_________________________________________________________________\n",
      "flatten_3 (Flatten)          (None, 3136)              0         \n",
      "_________________________________________________________________\n",
      "dense_6 (Dense)              (None, 512)               1606144   \n",
      "_________________________________________________________________\n",
      "dense_7 (Dense)              (None, 1)                 513       \n",
      "=================================================================\n",
      "Total params: 1,704,097\n",
      "Trainable params: 1,704,097\n",
      "Non-trainable params: 0\n",
      "_________________________________________________________________\n"
     ]
    }
   ],
   "source": [
    "model.summary()"
   ]
  },
  {
   "cell_type": "code",
   "execution_count": 26,
   "metadata": {},
   "outputs": [],
   "source": [
    "from tensorflow.keras.optimizers import RMSprop\n",
    "model.compile(loss='binary_crossentropy',\n",
    "             optimizer=RMSprop(lr=0.001),\n",
    "             metrics=['acc'])"
   ]
  },
  {
   "cell_type": "code",
   "execution_count": 27,
   "metadata": {},
   "outputs": [
    {
     "name": "stdout",
     "output_type": "stream",
     "text": [
      "Found 20 images belonging to 2 classes.\n"
     ]
    }
   ],
   "source": [
    "from tensorflow.keras.preprocessing.image import ImageDataGenerator\n",
    "\n",
    "# All images will be rescaled by 1./255\n",
    "train_datagen = ImageDataGenerator(rescale=1/255)\n",
    "\n",
    "# Flow training images in batches of 128 using train_datagen generator\n",
    "train_generator = train_datagen.flow_from_directory(\n",
    "        'C:\\\\Users\\\\Srivatsan\\\\Desktop\\\\facematch/ambulance&bikes',  # This is the source directory for training images\n",
    "        target_size=(300, 300),  # All images will be resized to 300*300\n",
    "        batch_size=128,\n",
    "        # Since we use binary_crossentropy loss, we need binary labels\n",
    "        class_mode='binary')\n"
   ]
  },
  {
   "cell_type": "code",
   "execution_count": 28,
   "metadata": {},
   "outputs": [],
   "source": [
    "class myCallback(tf.keras.callbacks.Callback):\n",
    "    def on_epoch_end(self,epoch,logs={}):\n",
    "        if(logs.get('acc')>0.99):\n",
    "                    print(\"Reached 99% training so canceling!\")\n",
    "                    self.model.stop_training=True\n",
    "callbacks=myCallback()"
   ]
  },
  {
   "cell_type": "code",
   "execution_count": 29,
   "metadata": {},
   "outputs": [
    {
     "name": "stdout",
     "output_type": "stream",
     "text": [
      "Epoch 1/15\n",
      "1/1 [==============================] - 2s 2s/step - loss: 0.6972 - acc: 0.4500\n",
      "Epoch 2/15\n",
      "1/1 [==============================] - 1s 964ms/step - loss: 0.8756 - acc: 0.5000\n",
      "Epoch 3/15\n",
      "1/1 [==============================] - 1s 913ms/step - loss: 0.7226 - acc: 0.5000\n",
      "Epoch 4/15\n",
      "1/1 [==============================] - 1s 947ms/step - loss: 0.6870 - acc: 0.6500\n",
      "Epoch 5/15\n",
      "1/1 [==============================] - 1s 968ms/step - loss: 0.6659 - acc: 0.5000\n",
      "Epoch 6/15\n",
      "1/1 [==============================] - 1s 938ms/step - loss: 0.6339 - acc: 0.5000\n",
      "Epoch 7/15\n",
      "1/1 [==============================] - 1s 948ms/step - loss: 1.5807 - acc: 0.5000\n",
      "Epoch 8/15\n",
      "1/1 [==============================] - 1s 938ms/step - loss: 0.6714 - acc: 0.5000\n",
      "Epoch 9/15\n",
      "1/1 [==============================] - 1s 961ms/step - loss: 0.6353 - acc: 0.6000\n",
      "Epoch 10/15\n",
      "1/1 [==============================] - 1s 964ms/step - loss: 0.5733 - acc: 0.9000\n",
      "Epoch 11/15\n",
      "1/1 [==============================] - 1s 936ms/step - loss: 0.4471 - acc: 0.9500\n",
      "Epoch 12/15\n",
      "Reached 99% training so canceling!\n",
      "1/1 [==============================] - 1s 939ms/step - loss: 0.2411 - acc: 1.0000\n"
     ]
    }
   ],
   "source": [
    "history=model.fit_generator(train_generator,\n",
    "                           steps_per_epoch=2,\n",
    "                           epochs=15,verbose=1,\n",
    "                           callbacks=[callbacks])\n",
    "\n",
    "model.save('ambulance&bikes-CNN.model')\n"
   ]
  },
  {
   "cell_type": "code",
   "execution_count": null,
   "metadata": {},
   "outputs": [],
   "source": []
  }
 ],
 "metadata": {
  "kernelspec": {
   "display_name": "Python 3",
   "language": "python",
   "name": "python3"
  },
  "language_info": {
   "codemirror_mode": {
    "name": "ipython",
    "version": 3
   },
   "file_extension": ".py",
   "mimetype": "text/x-python",
   "name": "python",
   "nbconvert_exporter": "python",
   "pygments_lexer": "ipython3",
   "version": "3.7.1"
  }
 },
 "nbformat": 4,
 "nbformat_minor": 2
}
